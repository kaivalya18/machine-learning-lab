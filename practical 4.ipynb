{
  "nbformat": 4,
  "nbformat_minor": 0,
  "metadata": {
    "colab": {
      "provenance": []
    },
    "kernelspec": {
      "name": "python3",
      "display_name": "Python 3"
    },
    "language_info": {
      "name": "python"
    }
  },
  "cells": [
    {
      "cell_type": "markdown",
      "source": [
        "Exp 4: TO EXPLORE AND IMPLIMENT PCA"
      ],
      "metadata": {
        "id": "C-82AkVzr7qh"
      }
    },
    {
      "cell_type": "code",
      "execution_count": null,
      "metadata": {
        "id": "RfhXxg8zl_d1"
      },
      "outputs": [],
      "source": [
        "import numpy as np\n",
        "import pandas as pd\n",
        "import matplotlib.pyplot as plt\n",
        "import seaborn as sns"
      ]
    },
    {
      "cell_type": "code",
      "source": [
        "#STEP 1: DATSET\n",
        "data = np.array([\n",
        "    [1.0, 1.2, 0.8],\n",
        "    [2.1, 2.3, 1.9],\n",
        "    [0.5, 0.6, 0.4],\n",
        "    [3.0, 3.1, 2.9],\n",
        "    [1.5, 1.6, 1.4],\n",
        "    [2.5, 2.6, 2.4],\n",
        "    [0.8, 0.9, 0.7],\n",
        "    [3.5, 3.6, 3.4],\n",
        "    [1.2, 1.3, 1.1],\n",
        "    [2.8, 2.9, 2.7]\n",
        "])"
      ],
      "metadata": {
        "id": "SkiFNgbwn4gp"
      },
      "execution_count": null,
      "outputs": []
    },
    {
      "cell_type": "code",
      "metadata": {
        "colab": {
          "base_uri": "https://localhost:8080/"
        },
        "id": "549b8874",
        "outputId": "be11fad2-7d1d-4a9f-868d-8070ae05eaed"
      },
      "source": [
        "#step 2: Standardization using pandas\n",
        "from sklearn.preprocessing import StandardScaler\n",
        "\n",
        "scaler = StandardScaler()\n",
        "scaled_data = scaler.fit_transform(data)\n",
        "print(scaled_data)"
      ],
      "execution_count": null,
      "outputs": [
        {
          "output_type": "stream",
          "name": "stdout",
          "text": [
            "[[-0.90792696 -0.83152401 -0.9818035 ]\n",
            " [ 0.21422996  0.29770613  0.13158191]\n",
            " [-1.41799828 -1.44746773 -1.38667093]\n",
            " [ 1.13235834  1.11896441  1.14375047]\n",
            " [-0.39785563 -0.42089487 -0.37450237]\n",
            " [ 0.62228701  0.60567798  0.63766619]\n",
            " [-1.11195548 -1.13949587 -1.08302036]\n",
            " [ 1.64242966  1.63225084  1.64983475]\n",
            " [-0.70389843 -0.72886673 -0.67815294]\n",
            " [ 0.92832981  0.91364984  0.94131676]]\n"
          ]
        }
      ]
    },
    {
      "cell_type": "code",
      "metadata": {
        "colab": {
          "base_uri": "https://localhost:8080/"
        },
        "id": "8d049907",
        "outputId": "b9c98253-bca6-450a-ae1e-cad20e20d01b"
      },
      "source": [
        "#step 3: Covariance matrix\n",
        "cov_matrix = np.cov(scaled_data.T)\n",
        "print(cov_matrix)"
      ],
      "execution_count": null,
      "outputs": [
        {
          "output_type": "stream",
          "name": "stdout",
          "text": [
            "[[1.11111111 1.11020216 1.1102275 ]\n",
            " [1.11020216 1.11111111 1.10752759]\n",
            " [1.1102275  1.10752759 1.11111111]]\n"
          ]
        }
      ]
    },
    {
      "cell_type": "code",
      "metadata": {
        "colab": {
          "base_uri": "https://localhost:8080/"
        },
        "id": "37547b51",
        "outputId": "6af96c78-a4ee-4a24-cb8c-48de625e1b57"
      },
      "source": [
        "#Step 4: Eigen decomposition\n",
        "from numpy import linalg\n",
        "\n",
        "eigenvalues, eigenvectors = np.linalg.eig(cov_matrix)\n",
        "print(\"Eigenvalues:\")\n",
        "print(eigenvalues)\n",
        "print(\"\\nEigenvectors:\")\n",
        "print(eigenvectors)"
      ],
      "execution_count": null,
      "outputs": [
        {
          "output_type": "stream",
          "name": "stdout",
          "text": [
            "Eigenvalues:\n",
            "[3.32974976e+00 4.59825127e-17 3.58357710e-03]\n",
            "\n",
            "Eigenvectors:\n",
            "[[ 0.57766086  0.81627008  0.00332968]\n",
            " [ 0.57719271 -0.40557858 -0.70876977]\n",
            " [ 0.57719711 -0.41135042  0.70543201]]\n"
          ]
        }
      ]
    },
    {
      "cell_type": "code",
      "source": [
        "#Step 5: Sort eigenvalues and eigen vectors\n",
        "sorted_indices = np.argsort(eigenvalues)[::-1]\n",
        "sorted_eigenvalues = eigenvalues[sorted_indices]\n",
        "sorted_eigenvectors = eigenvectors[:, sorted_indices]\n",
        "\n",
        "print(\"Sorted Eigenvalues:\")\n",
        "print(sorted_eigenvalues)\n",
        "print(\"\\nSorted Eigenvectors:\")\n",
        "print(sorted_eigenvectors)"
      ],
      "metadata": {
        "colab": {
          "base_uri": "https://localhost:8080/"
        },
        "id": "6L_qd0tWujhj",
        "outputId": "17d51aaa-0c1c-416b-8970-5eb485837c78"
      },
      "execution_count": null,
      "outputs": [
        {
          "output_type": "stream",
          "name": "stdout",
          "text": [
            "Sorted Eigenvalues:\n",
            "[3.32974976e+00 3.58357710e-03 4.59825127e-17]\n",
            "\n",
            "Sorted Eigenvectors:\n",
            "[[ 0.57766086  0.00332968  0.81627008]\n",
            " [ 0.57719271 -0.70876977 -0.40557858]\n",
            " [ 0.57719711  0.70543201 -0.41135042]]\n"
          ]
        }
      ]
    },
    {
      "cell_type": "code",
      "source": [
        "#step 6 : Select top 2 eigenvectors\n",
        "num_components = 2\n",
        "principal_components = sorted_eigenvectors[:, :num_components]\n",
        "print(\"Top 2 Principal Components (Eigenvectors):\")\n",
        "print(principal_components)\n"
      ],
      "metadata": {
        "colab": {
          "base_uri": "https://localhost:8080/"
        },
        "id": "FZQCTOgLu4wD",
        "outputId": "0cb52075-67db-41d2-ad36-4db65978b466"
      },
      "execution_count": null,
      "outputs": [
        {
          "output_type": "stream",
          "name": "stdout",
          "text": [
            "Top 2 Principal Components (Eigenvectors):\n",
            "[[ 0.57766086  0.00332968]\n",
            " [ 0.57719271 -0.70876977]\n",
            " [ 0.57719711  0.70543201]]\n"
          ]
        }
      ]
    },
    {
      "cell_type": "code",
      "source": [
        "#STEP 7: Project data to new basis\n",
        "projected_data = scaled_data.dot(principal_components)\n",
        "print(\"\\nProjected Data:\")\n",
        "print(projected_data)"
      ],
      "metadata": {
        "colab": {
          "base_uri": "https://localhost:8080/"
        },
        "id": "7khH2_3Fxkxk",
        "outputId": "520c3c6a-b6b6-4b5a-de5d-9bee7652face"
      },
      "execution_count": null,
      "outputs": [
        {
          "output_type": "stream",
          "name": "stdout",
          "text": [
            "\n",
            "Projected Data:\n",
            "[[-1.57111761 -0.10625964]\n",
            " [ 0.37153477 -0.11746969]\n",
            " [-2.45497238  0.04299783]\n",
            " [ 1.96014666  0.01752044]\n",
            " [-0.68892476  0.03280687]\n",
            " [ 1.07712285  0.02261592]\n",
            " [-1.9251581   0.03994054]\n",
            " [ 2.84317047  0.01242496]\n",
            " [-1.21873905  0.03586416]\n",
            " [ 1.60693714  0.01955863]]\n"
          ]
        }
      ]
    },
    {
      "cell_type": "code",
      "source": [
        "#STEP 8: OUTPUT THE REDUCED DATA\n",
        "\n",
        "reduced_data = pd.DataFrame(projected_data, columns=['PC1', 'PC2'])\n",
        "print(\"\\nReduced Data:\")\n",
        "print(reduced_data)"
      ],
      "metadata": {
        "colab": {
          "base_uri": "https://localhost:8080/"
        },
        "id": "tG5USrx4vtfj",
        "outputId": "95732792-ca2b-4f5e-d490-8f47e95d9568"
      },
      "execution_count": null,
      "outputs": [
        {
          "output_type": "stream",
          "name": "stdout",
          "text": [
            "\n",
            "Reduced Data:\n",
            "        PC1       PC2\n",
            "0 -1.571118 -0.106260\n",
            "1  0.371535 -0.117470\n",
            "2 -2.454972  0.042998\n",
            "3  1.960147  0.017520\n",
            "4 -0.688925  0.032807\n",
            "5  1.077123  0.022616\n",
            "6 -1.925158  0.039941\n",
            "7  2.843170  0.012425\n",
            "8 -1.218739  0.035864\n",
            "9  1.606937  0.019559\n"
          ]
        }
      ]
    },
    {
      "cell_type": "code",
      "source": [
        "#Step 9 : Visualize\n",
        "plt.scatter(reduced_data['PC1'], reduced_data['PC2'])\n",
        "plt.xlabel('PC1')\n",
        "plt.ylabel('PC2')\n",
        "plt.title('PCA Visualization')\n",
        "plt.show()"
      ],
      "metadata": {
        "colab": {
          "base_uri": "https://localhost:8080/",
          "height": 472
        },
        "id": "AFM5FqClzmDN",
        "outputId": "373b9129-ca7a-4dc5-8bcc-0702bc591fa6"
      },
      "execution_count": null,
      "outputs": [
        {
          "output_type": "display_data",
          "data": {
            "text/plain": [
              "<Figure size 640x480 with 1 Axes>"
            ],
            "image/png": "[encoded data removed]"
          },
          "metadata": {}
        }
      ]
    },
    {
      "cell_type": "code",
      "source": [],
      "metadata": {
        "id": "5ZROc935z0Et"
      },
      "execution_count": null,
      "outputs": []
    }
  ]
}